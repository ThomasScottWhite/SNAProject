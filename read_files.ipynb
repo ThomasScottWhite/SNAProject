{
 "cells": [
  {
   "cell_type": "code",
   "execution_count": null,
   "metadata": {},
   "outputs": [],
   "source": [
    "\n",
    "import os\n",
    "import glob\n",
    "import json\n",
    "import re\n",
    "\n",
    "def data():\n",
    "    comment_files = glob.glob(\"./comments/*\")\n",
    "    conversations_files = glob.glob(\"./conversations/*\")\n",
    "    submissions_files = glob.glob(\"./submissions/*\")\n",
    "    data_list = []\n",
    "    for comment, conversation, submission, in zip(comment_files, conversations_files, submissions_files):\n",
    "        with open(comment, 'r') as f:\n",
    "            comment_data = json.load(f) \n",
    "        with open(conversation, 'r') as f:\n",
    "            conversation = json.load(f) \n",
    "        with open(submission, 'r') as f:\n",
    "            submission = json.load(f) \n",
    "        \n",
    "        match = re.search(r'/(\\d{4})_(\\d{2})\\.json$', comment)\n",
    "        if match:\n",
    "            year_month = f\"{match.group(1)}_{match.group(2)}\"\n",
    "\n",
    "\n",
    "        data_list.append({\n",
    "            \"year_month\": year_month,\n",
    "            \"comment_data\" : comment_data,\n",
    "            \"conversation_data\" : conversation,\n",
    "            \"submission_data\" : submission\n",
    "        })\n",
    "    return data_list\n"
   ]
  }
 ],
 "metadata": {
  "kernelspec": {
   "display_name": "base",
   "language": "python",
   "name": "python3"
  },
  "language_info": {
   "codemirror_mode": {
    "name": "ipython",
    "version": 3
   },
   "file_extension": ".py",
   "mimetype": "text/x-python",
   "name": "python",
   "nbconvert_exporter": "python",
   "pygments_lexer": "ipython3",
   "version": "3.10.14"
  }
 },
 "nbformat": 4,
 "nbformat_minor": 2
}
